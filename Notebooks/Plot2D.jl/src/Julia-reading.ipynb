{
 "cells": [
  {
   "cell_type": "markdown",
   "id": "37534c9a-d161-4d14-8888-6231fe3243e2",
   "metadata": {},
   "source": [
    "# Reading an ADIOS-2 BP parallel file with Julia on OLCF systems"
   ]
  },
  {
   "cell_type": "code",
   "execution_count": null,
   "id": "f31d320b-442c-4c44-bea9-b84567910a0d",
   "metadata": {},
   "outputs": [],
   "source": [
    "import ADIOS2\n",
    "import CairoMakie\n",
    "\n",
    "bp_file = \"/gpfs/wolf2/olcf/trn023/scratch/wgodoy/tutorial/runs/run003/gs-1MPI-1GPU-256L-F32-JACC-AMDGPU.bp\"\n",
    "\n",
    "adios = ADIOS2.adios_init_serial()\n",
    "io = ADIOS2.declare_io(adios, \"reader\")\n",
    "\n",
    "reader = ADIOS2.open(io, bp_file, ADIOS2.mode_read)\n",
    "\n",
    "# get the number of available steps in the reader, only works for bp files\n",
    "steps = ADIOS2.steps(reader)\n",
    "\n",
    "npixels = 1024\n",
    "local_count = 32\n",
    "# Grid is 1800x1800x1800. Use Tuples () for selection\n",
    "local_start = convert( Int64, ceil((npixels-local_count)/2) )\n",
    "\n",
    "start = (   local_start, local_start,  convert(Int64, ceil(npixels/2) ) )\n",
    "count = (   local_count,  local_count,  1 )\n",
    "\n",
    "sliceU = Array{Float32, 2}(undef, local_count, local_count)  \n",
    "sliceV = Array{Float32, 2}(undef, local_count, local_count)\n",
    "\n",
    "for step in 1:steps\n",
    "    \n",
    "    ADIOS2.begin_step(reader)\n",
    "    \n",
    "    varU = ADIOS2.inquire_variable(io, \"U\")\n",
    "    @assert varU isa ADIOS2.Variable string(\"Could not find variable U\")\n",
    "    ADIOS2.set_selection(varU, start, count)\n",
    "    \n",
    "    varV = ADIOS2.inquire_variable(io, \"U\")\n",
    "    @assert varV isa ADIOS2.Variable string(\"Could not find variable V\")\n",
    "    ADIOS2.set_selection(varV, start, count)\n",
    "    \n",
    "    ADIOS2.get(reader, varU, sliceU) \n",
    "    ADIOS2.get(reader, varV, sliceV) \n",
    "    ADIOS2.end_step(reader)\n",
    "    \n",
    "    println( \"Showing step \", step )\n",
    "    f = CairoMakie.Figure()\n",
    "    CairoMakie.heatmap(f[1,1], sliceU)\n",
    "    CairoMakie.heatmap(f[1,2], sliceV)\n",
    "    display(f)\n",
    "    CairoMakie.save(string(\"U_V_\",step,\".pdf\"), f)\n",
    "end\n",
    "\n",
    "\n",
    "ADIOS2.close(reader)\n",
    "ADIOS2.adios_finalize(adios)"
   ]
  }
 ],
 "metadata": {
  "kernelspec": {
   "display_name": "Julia (16 threads) 1.9.0",
   "language": "julia",
   "name": "julia-_16-threads_-1.9"
  },
  "language_info": {
   "file_extension": ".jl",
   "mimetype": "application/julia",
   "name": "julia",
   "version": "1.9.0"
  }
 },
 "nbformat": 4,
 "nbformat_minor": 5
}
